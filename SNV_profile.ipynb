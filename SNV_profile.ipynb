{
 "cells": [
  {
   "cell_type": "code",
   "execution_count": null,
   "id": "8e230bfc-0765-478e-a45b-0c82bc044d6a",
   "metadata": {},
   "outputs": [],
   "source": [
    "import os\n",
    "import simba as si\n",
    "from scipy import sparse\n",
    "import numpy as np\n",
    "import pandas as pd\n",
    "import anndata as ad\n",
    "import matplotlib.pyplot as plt\n",
    "import matplotlib.patches as mpatches\n",
    "import matplotlib.colors as mc\n",
    "import seaborn as sns\n",
    "\n",
    "\n",
    "si.__version__"
   ]
  },
  {
   "cell_type": "code",
   "execution_count": null,
   "id": "46c83ca9-fdca-4a5c-adfb-71d8a9613468",
   "metadata": {},
   "outputs": [],
   "source": [
    "si.settings.set_figure_params(dpi=80,\n",
    "                              style='white',\n",
    "                              fig_size=[5,5],\n",
    "                              rc={'image.cmap': 'viridis'})\n",
    "\n",
    "# make plots prettier\n",
    "from matplotlib_inline.backend_inline import set_matplotlib_formats\n",
    "set_matplotlib_formats('retina')"
   ]
  },
  {
   "cell_type": "code",
   "execution_count": null,
   "id": "752a5611-00be-4cde-bce9-b2b60dff38f3",
   "metadata": {},
   "outputs": [],
   "source": [
    "workdir = '/mnt/d/JorritvU/SIMBA/tests/0205-test/'\n",
    "si.settings.set_workdir(workdir)"
   ]
  },
  {
   "cell_type": "code",
   "execution_count": null,
   "id": "a759402a-19c6-4690-a908-d75c1f73646c",
   "metadata": {},
   "outputs": [],
   "source": [
    "adata_s143 = si.read_h5ad('/mnt/d/JorritvU/Tripolar/scRNA-seq/s143/old/SNV/s143.germline.updated.h5ad')"
   ]
  },
  {
   "cell_type": "code",
   "execution_count": null,
   "id": "3a9bb0ce-c0b4-4921-ae91-98e177358e3e",
   "metadata": {},
   "outputs": [],
   "source": [
    "adata_s145 = si.read_h5ad('/mnt/d/JorritvU/Tripolar/scRNA-seq/s145/old/SNV/s145.germline.updated.h5ad')"
   ]
  },
  {
   "cell_type": "code",
   "execution_count": null,
   "id": "381c831e-35db-4d12-9b52-3e3acfae62bd",
   "metadata": {},
   "outputs": [],
   "source": [
    "adata_chi006 = si.read_h5ad('/mnt/d/JorritvU/Tripolar/scDNA-seq/CHI-006/processed/SNV/CHI-006.germline_v2.h5ad')\n",
    "\n",
    "adata_chi007 = si.read_h5ad('/mnt/d/JorritvU/Tripolar/scDNA-seq/CHI-007/processed/SNV/CHI-007.germline_v2.h5ad')"
   ]
  },
  {
   "cell_type": "code",
   "execution_count": null,
   "id": "5b80bb34-0c86-4955-bfce-4b8bd22d1620",
   "metadata": {},
   "outputs": [],
   "source": [
    "adata_s143.X.A"
   ]
  },
  {
   "cell_type": "code",
   "execution_count": null,
   "id": "44c28cd0-e327-4a35-988e-b36914cc086d",
   "metadata": {},
   "outputs": [],
   "source": [
    "adata_s145.X.A"
   ]
  },
  {
   "cell_type": "code",
   "execution_count": null,
   "id": "07307f4f-53c7-4364-9392-f5039a98690a",
   "metadata": {},
   "outputs": [],
   "source": [
    "# DNA samples are already sparse matrices.\n",
    "adata_chi006.X.A"
   ]
  },
  {
   "cell_type": "code",
   "execution_count": null,
   "id": "aee0900b-b8ae-443f-8e0d-0481a91c0ca4",
   "metadata": {},
   "outputs": [],
   "source": [
    "adata_chi007.X"
   ]
  },
  {
   "cell_type": "markdown",
   "id": "10d97a92-1bf0-4a32-81bf-e5d7a47698cf",
   "metadata": {},
   "source": [
    "Now we filter on Allele Frequency (AF). <br/>\n",
    "For now arbitrary number (0.1). "
   ]
  },
  {
   "cell_type": "code",
   "execution_count": null,
   "id": "38ae72e9-586c-4d94-a793-aa4290552810",
   "metadata": {},
   "outputs": [],
   "source": [
    "adata_s143.var['pass'] = adata_s143.var['AF'] > 0.3"
   ]
  },
  {
   "cell_type": "code",
   "execution_count": null,
   "id": "f3c58587-8c46-493a-8bb2-d18d74099dbb",
   "metadata": {},
   "outputs": [],
   "source": [
    "adata_s145.var['pass'] = adata_s145.var['AF'] > 0.3"
   ]
  },
  {
   "cell_type": "code",
   "execution_count": null,
   "id": "63fce10d-7c05-4a71-a77c-9cbcecb7504f",
   "metadata": {},
   "outputs": [],
   "source": [
    "adata_chi006.var['pass'] = adata_chi006.var['AF'] > 0.3"
   ]
  },
  {
   "cell_type": "code",
   "execution_count": null,
   "id": "345b50a0-c9a9-40bb-899c-9133143ca5b2",
   "metadata": {},
   "outputs": [],
   "source": [
    "adata_chi007.var['pass'] = adata_chi007.var['AF'] > 0.3"
   ]
  },
  {
   "cell_type": "markdown",
   "id": "9e4e3432-8980-4e5d-b943-323483b37381",
   "metadata": {},
   "source": [
    "## Merge the RNA runs into 1, and merge the DNA runs into 1"
   ]
  },
  {
   "cell_type": "code",
   "execution_count": null,
   "id": "36da5f74-796c-47d1-bfc9-40c5b0fa8de7",
   "metadata": {},
   "outputs": [],
   "source": [
    "import anndata as ad\n",
    "\n",
    "def merge_datasets(adata1, adata2):\n",
    "    common_vars = list(set(adata1.var_names).intersection(set(adata2.var_names)))\n",
    "    print(f\"Number of intersecting SNVs: {len(common_vars)}\")\n",
    "    adata1 = adata1[:, common_vars]\n",
    "    adata2 = adata2[:, common_vars]\n",
    "    adata = ad.concat([adata1, adata2], merge='first', join='inner')\n",
    "    return adata"
   ]
  },
  {
   "cell_type": "code",
   "execution_count": null,
   "id": "3d1e9ff1-d6bb-4d97-87c8-dc696ad93120",
   "metadata": {},
   "outputs": [],
   "source": [
    "adata_dna = merge_datasets(adata_chi006, adata_chi007)  \n",
    "print(adata_dna)\n",
    "adata_rna = merge_datasets(adata_s143, adata_s145)  \n",
    "print(adata_rna)\n"
   ]
  },
  {
   "cell_type": "markdown",
   "id": "d01a0414-e5af-4c23-ac32-6e16429161c6",
   "metadata": {},
   "source": [
    "# DNA and RNA\n",
    "\n",
    "Filter the datasets on NAs, filter out AF > 0.05 (above we set the threshold to 0.1, so the one here does nothing).\n",
    "\n",
    "Intersect the common vars (i.e. the common SNVs). \n",
    "\n",
    "This results in *5933* SNVs in each dataset."
   ]
  },
  {
   "cell_type": "code",
   "execution_count": null,
   "id": "83ee13a4-58e7-4d03-91de-5f2acf7701bc",
   "metadata": {},
   "outputs": [],
   "source": [
    "\"\"\"\n",
    "Filter the NaN samples and based on AF > 0.05.\n",
    "If other sample types should be excluded, change code here.\n",
    "\"\"\"\n",
    "\n",
    "data = {'rna': adata_rna, 'dna': adata_dna}\n",
    "\n",
    "for k in ['rna', 'dna']:\n",
    "    data[f\"{k}_filtered\"] = data[k][~data[k].obs_names.str.contains('nan|Control', na=False), data[k].var['AF'] > 0.05].copy()\n",
    "    \n",
    "    print(f\"{k}_filtered: {data[f'{k}_filtered'].shape}\")\n",
    "\n",
    "\n",
    "filtered_datasets = [d for d in data.keys() if 'filtered' in d]\n",
    "common_vars = set(data[filtered_datasets[1]].var_names).intersection(set(data[filtered_datasets[0]].var_names))\n",
    "\n",
    "filtered_datasets = [d for d in data.keys() if 'filtered' in d]\n",
    "# Filtered datasets 1 = DNA\n",
    "for key in filtered_datasets:\n",
    "    data[key] = data[key][:, list(common_vars)]\n",
    "\n",
    "data"
   ]
  },
  {
   "cell_type": "markdown",
   "id": "b4f39071-ec4c-4045-9cdb-4d2afc12c2c0",
   "metadata": {},
   "source": [
    "## Add proportions to metadata\n",
    "\n",
    "Here we add the proportions of each variant across the cells and across the SNVs.\n",
    "\n",
    "Resulting in 3 lists in the variable metadata, and 3 lists in the observable metadata.\n",
    "\n",
    "Proportions are calculated as the sum of the variant divided by the total count."
   ]
  },
  {
   "cell_type": "code",
   "execution_count": null,
   "id": "4c1f1f2f-6022-4328-a379-e292b54bdf96",
   "metadata": {},
   "outputs": [],
   "source": [
    "# Access the .X attribute where your SNV data is stored\n",
    "# Convert it to a dense matrix if it's stored as a sparse matrix\n",
    "for key in filtered_datasets:\n",
    "    adata = data[key].copy()\n",
    "    X_dense = data[key].X.toarray()\n",
    "    \n",
    "    # Count occurrences of each variant type (1, 2, 3) per cell\n",
    "    variant_counts = np.apply_along_axis(lambda x: np.bincount(x, minlength=4)[1:], axis=1, arr=X_dense)\n",
    "    \n",
    "    # Calculate proportions\n",
    "    variant_proportions = variant_counts / variant_counts.sum(axis=1, keepdims=True)\n",
    "    \n",
    "    # Add proportions back to adata as layers or as part of obs (depending on your preference)\n",
    "    # Add variant proportions as separate columns in adata.obs\n",
    "    data[key].obs['variant_1_proportion_0/0'] = variant_proportions[:, 0]\n",
    "    data[key].obs['variant_2_proportion_0/1'] = variant_proportions[:, 1]\n",
    "    data[key].obs['variant_3_proportion_1/1'] = variant_proportions[:, 2]\n",
    "\n",
    "\n",
    "    snv_counts = np.zeros((data[key].n_vars, 3), dtype=int)\n",
    "    \n",
    "    # Iterate over each variant type and count occurrences per SNV\n",
    "    for variant_type in range(1, 4):\n",
    "        snv_counts[:, variant_type-1] = np.sum(X_dense == variant_type, axis=0)\n",
    "\n",
    "    # Calculate the total counts per SNV to use for proportion calculation\n",
    "    total_snv_counts = snv_counts.sum(axis=1, keepdims=True)\n",
    "    \n",
    "    # Calculate proportions of each variant type per SNV\n",
    "    snv_proportions = snv_counts / total_snv_counts\n",
    "\n",
    "    # Add SNV proportions to the .var DataFrame\n",
    "    data[key].var['variant_1_proportion_0/0'] = snv_proportions[:, 0]\n",
    "    data[key].var['variant_2_proportion_0/1'] = snv_proportions[:, 1]\n",
    "    data[key].var['variant_3_proportion_1/1'] = snv_proportions[:, 2]"
   ]
  },
  {
   "cell_type": "markdown",
   "id": "054ef3ba-ac6d-4eb9-9397-63546a1de042",
   "metadata": {},
   "source": [
    "## Functions for the plotting."
   ]
  },
  {
   "cell_type": "code",
   "execution_count": null,
   "id": "50b57778-d8eb-4108-a7d5-a376b7e3d011",
   "metadata": {},
   "outputs": [],
   "source": [
    "def heatmap(adata, phenotype=True, batches=True, name='heatmap', format=\"pdf\", workdir=\"\"):\n",
    "    current_data = adata\n",
    "    obs_data = current_data.obs.reset_index(drop=True)\n",
    "    plt.figure(figsize=(22, 8))\n",
    "\n",
    "    \n",
    "        \n",
    "    batch_palette = sns.color_palette(\"hls\", len(obs_data['Batch'].unique()))\n",
    "    batch_color_map = {batch: color for batch, color in zip(obs_data['Batch'].unique(), batch_palette)}\n",
    "    batch_colors = [batch_color_map[batch] for batch in obs_data['Batch']]\n",
    "    \n",
    "    batch_hex_colors = {key: mc.to_hex(value) for key, value in batch_color_map.items()}\n",
    "    \n",
    "    phenotype_palette  = sns.color_palette(\"bright\", len(obs_data['Phenotype'].unique()))\n",
    "    phenotype_color_map = {phenotype: color for phenotype, color in zip(obs_data['Phenotype'].unique(), phenotype_palette)}\n",
    "    phenotype_colors  = [phenotype_color_map[phenotype] for phenotype in obs_data['Phenotype']]\n",
    "    \n",
    "    phenotype_hex_colors = {key: mc.to_hex(value) for key, value in phenotype_color_map.items()}\n",
    "    \n",
    "    # Create a heatmap\n",
    "\n",
    "    columns = []\n",
    "    legend_colors = {}\n",
    "    if batches:\n",
    "        columns.append(batch_colors)\n",
    "        legend_colors.update(**batch_hex_colors)\n",
    "    if phenotype:\n",
    "        columns.append(phenotype_colors)\n",
    "        legend_colors.update(**phenotype_hex_colors)\n",
    "\n",
    "    heatmap_legend = {\"label\": \"SNV variant\", \"ticks\": [1,2,3]}\n",
    "    g = sns.clustermap(current_data.X.A.T, col_colors = columns, cmap=\"viridis\", yticklabels=False, row_cluster=True, cbar_kws=heatmap_legend)\n",
    "    g.cax.set_yticklabels(['0/0', '0/1', '1/1'])\n",
    "    # Define legend patches\n",
    "    legend_patches = [\n",
    "        mpatches.Patch(color=color, label=batch) for batch, color in legend_colors.items()\n",
    "    ]    \n",
    "    \n",
    "    plt.legend(handles=legend_patches, title=\"Metadata\", bbox_to_anchor=(2.00, -0.4), loc='upper right')\n",
    "    plt.savefig(f\"{workdir}/{name}.{format}\", format=format, dpi=300)\n",
    "    plt.show()\n",
    "\n",
    "\n",
    "def stacked_barplot_variants(current_data, axis):\n",
    "    variants = ['variant_1_proportion_0/0', 'variant_2_proportion_0/1', 'variant_3_proportion_1/1']\n",
    "    \n",
    "    batches = current_data.obs['Batch'].unique()\n",
    "    stacked_data = current_data.obs.groupby('Batch')[variants].mean()\n",
    "    \n",
    "    # Example: Visualizing the mean proportion of variant 2 per Batch\n",
    "    # Set up subplots\n",
    "    \n",
    "\n",
    "    # Stacked bar plot for each variant proportion per batch on the first subplot\n",
    "    bottom = np.zeros(len(batches))\n",
    "    for i, variant in enumerate(variants):\n",
    "        axis.bar(batches, stacked_data[variant], bottom=bottom, label=f'{variant.split(\"_\")[-1]}')\n",
    "        bottom += stacked_data[variant].values\n",
    "\n",
    "    axis.set_title('Stacked Mean Proportion of Variants per Batch')\n",
    "    axis.set_ylabel('Mean Proportion')\n",
    "    axis.set_xlabel('Batch')\n",
    "    axis.tick_params(axis='x', rotation=45)\n",
    "    axis.legend(loc='upper right')\n",
    "\n",
    "    return axis\n",
    "\n",
    "def variant_linegraph(current_data, axis, max_n=100):\n",
    "    variants = ['variant_1_proportion_0/0', 'variant_2_proportion_0/1', 'variant_3_proportion_1/1']\n",
    "    \n",
    "    snv_locations = range(max_n)\n",
    "    for i, variant in enumerate(variants):\n",
    "        axis.plot(snv_locations, current_data.var[variant][:len(snv_locations)], label=f'{variant.split(\"_\")[-1]}')\n",
    "\n",
    "    axis.set_xlabel('SNV Location')\n",
    "    axis.set_ylabel('Proportion')\n",
    "    axis.set_title('Variant Proportions Across SNV Locations')\n",
    "    axis.legend(loc='upper right')\n",
    "\n",
    "    return axis"
   ]
  },
  {
   "cell_type": "code",
   "execution_count": null,
   "id": "6f28a083-9811-463f-ad8c-3c01e909ea50",
   "metadata": {},
   "outputs": [],
   "source": [
    "workdir = \"/mnt/d/JorritvU/Tripolar/SNV_Profile\""
   ]
  },
  {
   "cell_type": "markdown",
   "id": "370c6bab-a698-4b9b-a517-cf2966e354db",
   "metadata": {},
   "source": [
    "## Stacked barplot + linegraph for variants"
   ]
  },
  {
   "cell_type": "code",
   "execution_count": null,
   "id": "7a8b3e19-5f71-4bd7-9ead-efc0af30e3cd",
   "metadata": {},
   "outputs": [],
   "source": [
    "for key in filtered_datasets:\n",
    "    current_data = data[key]\n",
    "    fig, axes = plt.subplots(1, 2, figsize=(20, 6))\n",
    "    fig.suptitle(f'Overview of SNVs for {key}')\n",
    "    \n",
    "    axes[0] = stacked_barplot_variants(current_data, axes[0])    \n",
    "    axes[1] = variant_linegraph(current_data, axes[1])\n",
    "\n",
    "    # Show the plot for the current dataset\n",
    "    plt.tight_layout(rect=[0, 0, 1, 0.95]) \n",
    "    plt.show()\n",
    "\n",
    "    heatmap(data[key], workdir=workdir, name=f\"{key}_SNV_profile\", format=\"png\")\n",
    "    "
   ]
  },
  {
   "cell_type": "markdown",
   "id": "0635274e-c50c-42cf-aa24-56a05a7d1f61",
   "metadata": {},
   "source": [
    "## Heatmap for the combined dataset"
   ]
  },
  {
   "cell_type": "code",
   "execution_count": null,
   "id": "a8fa5af3-50ad-4c35-ab91-8feed4c9f4d3",
   "metadata": {},
   "outputs": [],
   "source": [
    "adata = merge_datasets(data['rna_filtered'], data['dna_filtered'])\n",
    "print(adata)"
   ]
  },
  {
   "cell_type": "code",
   "execution_count": null,
   "id": "6bf2e565-720b-46c2-a183-48dbe871ee93",
   "metadata": {},
   "outputs": [],
   "source": [
    "fig, axes = plt.subplots(1, 2, figsize=(20, 6))\n",
    "fig.suptitle(f'Overview of SNVs for merged adata')\n",
    "    \n",
    "axes[0] = stacked_barplot_variants(adata, axes[0])    \n",
    "axes[1] = variant_linegraph(adata, axes[1], 100)\n",
    "\n",
    "plt.tight_layout(rect=[0, 0, 1, 0.95])\n",
    "plt.show()\n",
    "\n",
    "heatmap(adata, phenotype=False, workdir=workdir, name=f\"combined_SNV_profile\", format=\"png\")"
   ]
  },
  {
   "cell_type": "markdown",
   "id": "409aef95-2743-46b6-9470-e4abbef90fba",
   "metadata": {},
   "source": [
    "# SNV filtering\n",
    "We already added the proportions of each variant per SNV, as seen in the two cells below.\n",
    "\n",
    "<br/>\n",
    "\n",
    "Next, we compare the proportions per SNV between DNA and RNA datasets. \n",
    "For this we divide each proportion of RNA with the respective DNA proportion, like:\n",
    "\n",
    "RNA_variant_1_proportion_0/0 / DNA_variant_1_proportion_0/0 <br/>\n",
    "which is; 0.995595 / 0.873508 <br/>\n",
    "r = 0.8773734344309039 <br/>\n",
    "<br/>\n",
    "\n",
    "If the ratio deviates too much from 1, decided by `window` and the corresponding proportions are above threshold `t`, the SNV is considered to be a _bad_ SNV. <br/>\n",
    "\n",
    "In the example above, it passes.\n"
   ]
  },
  {
   "cell_type": "code",
   "execution_count": null,
   "id": "c43354e8-2c51-4d6f-aaa6-1331c7658de2",
   "metadata": {},
   "outputs": [],
   "source": [
    "data['rna_filtered'].var"
   ]
  },
  {
   "cell_type": "code",
   "execution_count": null,
   "id": "a2994238-4c22-423b-a598-08fc6c3a48fc",
   "metadata": {},
   "outputs": [],
   "source": [
    "data['dna_filtered'].var"
   ]
  },
  {
   "cell_type": "code",
   "execution_count": null,
   "id": "03ffac7f-1a85-4e05-b342-009d2e29454a",
   "metadata": {},
   "outputs": [],
   "source": [
    "def check_snv(adata, adata1, var_name, t=0.01, window=0.2, debug=False):\n",
    "    print(\"\\nChecking\", var_name) if debug else print(\"\", end=\"\")\n",
    "    variants = ['variant_1_proportion_0/0', 'variant_2_proportion_0/1', 'variant_3_proportion_1/1']\n",
    "    p1 = [adata.var[k][var_name] for k in variants]\n",
    "    p2 = [adata1.var[k][var_name] for k in variants]\n",
    "    ratios = [(p2[i]/p1[i]) for i in range(len(variants))]\n",
    "\n",
    "    if debug:\n",
    "        print(f\"p1: {p1}\")\n",
    "        print(f\"p2: {p2}\")\n",
    "        print(f\"ratio: {ratios}\")\n",
    "    \n",
    "    if max(p1) >= 0.999 or max(p2) >= 0.999:\n",
    "        print(f\"BAD: {var_name} solely 1 variant\") if debug else print(\"\", end=\"\")\n",
    "        return False\n",
    "        \n",
    "    for i, r in enumerate(ratios):\n",
    "        if r < 1-window or r > 1+window:\n",
    "            if p1[i] > t and p2[i] > t:\n",
    "                print(\"BAD RATIO\") if debug else print(\"\", end=\"\")\n",
    "                return False\n",
    "\n",
    "    return True"
   ]
  },
  {
   "cell_type": "code",
   "execution_count": null,
   "id": "fa42124e-b747-414a-940b-04a72c55ae0f",
   "metadata": {
    "scrolled": true
   },
   "outputs": [],
   "source": [
    "snvs = list(data['rna_filtered'].var_names)\n",
    "\n",
    "len_before = len(snvs)\n",
    "good_snvs = []\n",
    "bad_snvs = []\n",
    "\n",
    "for s in snvs:\n",
    "    keep = check_snv(data['rna_filtered'], data['dna_filtered'], s, window=0.3, t=0.1, debug=False)\n",
    "    if keep:\n",
    "        good_snvs.append(s)\n",
    "    else:\n",
    "        bad_snvs.append(s)\n",
    "len_after = len(good_snvs)\n",
    "\n",
    "print(f\"No. SNVs before: {len_before}\")\n",
    "print(f\"No. SNVs after: {len_after}\")\n",
    "print(f\"Percentage thrown out: {100-round(len_after/len_before*100, 2)}%\")\n",
    "\n"
   ]
  },
  {
   "cell_type": "markdown",
   "id": "736d34df-913d-42a6-99e4-17d6b8381961",
   "metadata": {},
   "source": [
    "### Proportion check\n",
    "\n",
    "The results: <br/>\n",
    "p1: `[0.9955947136563876, 0.004405286343612335, 0.0]`<br/>\n",
    "p2: `[0.8735083532219571, 0.12171837708830549, 0.00477326968973747]`<br/>\n",
    "ratio: `[0.8773734344309039, 27.630071599045344, inf]`<br/>\n",
    "\n",
    "Eventhough the second ratio is 27, which is outside the `window=0.2`, the corresponding proportion of p1, is below the treshold `t=0.1`\n"
   ]
  },
  {
   "cell_type": "code",
   "execution_count": null,
   "id": "b785e08e-1b1b-4b65-84dd-feb6f05c8ada",
   "metadata": {},
   "outputs": [],
   "source": [
    "check_snv(data['rna_filtered'], data['dna_filtered'], \"chr22:46475197_G/A\", debug=True)"
   ]
  },
  {
   "cell_type": "code",
   "execution_count": null,
   "id": "92b9cf41-eb5b-4fa3-882d-8fc9d230a514",
   "metadata": {},
   "outputs": [],
   "source": [
    "adata_filtered = adata[:, list(good_snvs)]"
   ]
  },
  {
   "cell_type": "code",
   "execution_count": null,
   "id": "208e0806-d49b-4f67-b33f-c8f91eef123c",
   "metadata": {},
   "outputs": [],
   "source": [
    "fig, axes = plt.subplots(1, 2, figsize=(20, 6))\n",
    "fig.suptitle(f'Overview of SNVs for merged adata')\n",
    "    \n",
    "axes[0] = stacked_barplot_variants(adata_filtered, axes[0])    \n",
    "axes[1] = variant_linegraph(adata_filtered, axes[1], 250)\n",
    "\n",
    "plt.tight_layout(rect=[0, 0, 1, 0.95])\n",
    "plt.show()\n",
    "\n",
    "heatmap(adata_filtered, workdir=workdir, name=f\"Filtered_combined_SNV_profile\", format=\"png\")"
   ]
  },
  {
   "cell_type": "markdown",
   "id": "4ceb4808-be73-4cb7-a6e6-a30942a8b643",
   "metadata": {},
   "source": [
    "## The SNVs that are filtered out"
   ]
  },
  {
   "cell_type": "code",
   "execution_count": null,
   "id": "07bf0d62-3d4d-4582-a9c8-97a10cbf29d7",
   "metadata": {},
   "outputs": [],
   "source": [
    "adata_filtered = adata[:, bad_snvs]\n",
    "\n",
    "fig, axes = plt.subplots(1, 2, figsize=(20, 6))\n",
    "fig.suptitle(f'Overview of SNVs for merged adata')\n",
    "    \n",
    "axes[0] = stacked_barplot_variants(adata_filtered, axes[0])    \n",
    "axes[1] = variant_linegraph(adata_filtered, axes[1], 250)\n",
    "\n",
    "plt.tight_layout(rect=[0, 0, 1, 0.95])\n",
    "plt.show()\n",
    "\n",
    "heatmap(adata_filtered, workdir=workdir, name=f\"rejected_SNV_profile\", format=\"png\")"
   ]
  },
  {
   "cell_type": "markdown",
   "id": "de63a0a5-9c06-422b-8234-6a834a6c7ddc",
   "metadata": {},
   "source": [
    "## Strict filtering"
   ]
  },
  {
   "cell_type": "code",
   "execution_count": null,
   "id": "80bc782e-655e-4a84-b88b-e85d42d437a9",
   "metadata": {},
   "outputs": [],
   "source": [
    "def strict_filter(adata, adata1, var_name, t=0.01, window=0.03, debug=False):\n",
    "    print(\"\\nChecking\", var_name) if debug else print(\"\", end=\"\")\n",
    "    variants = ['variant_1_proportion_0/0', 'variant_2_proportion_0/1', 'variant_3_proportion_1/1']\n",
    "    p1 = [adata.var[k][var_name] for k in variants]\n",
    "    p2 = [adata1.var[k][var_name] for k in variants]\n",
    "\n",
    "    if max(p1) >= 0.999 or max(p2) >= 0.999:\n",
    "        print(f\"BAD: {var_name} solely 1 variant\") if debug else print(\"\", end=\"\")\n",
    "        return False\n",
    "    \n",
    "    for i in range(len(variants)):\n",
    "        rna_p = p1[i]\n",
    "        dna_p = p2[i]\n",
    "        if dna_p + window > rna_p and dna_p - window < rna_p:\n",
    "            print(f\"{dna_p} is very close to being equal to {rna_p}\") if debug else print(\"\", end=\"\")\n",
    "        else:\n",
    "            return False\n",
    "    print(\"All three are good\") if debug else print(\"\", end=\"\")\n",
    "    return True"
   ]
  },
  {
   "cell_type": "code",
   "execution_count": null,
   "id": "d28167a7-858e-4464-a633-76c94875e1a7",
   "metadata": {},
   "outputs": [],
   "source": [
    "snvs = list(adata.var_names)\n",
    "\n",
    "len_before = len(snvs)\n",
    "good_snvs = []\n",
    "bad_snvs = []\n",
    "\n",
    "for s in snvs:\n",
    "    keep = strict_filter(data['rna_filtered'], data['dna_filtered'], s)\n",
    "    if keep:\n",
    "        good_snvs.append(s)\n",
    "    else:\n",
    "        bad_snvs.append(s)\n",
    "len_after = len(good_snvs)\n",
    "\n",
    "print(f\"No. SNVs before: {len_before}\")\n",
    "print(f\"No. SNVs after: {len_after}\")\n",
    "print(f\"Percentage thrown out: {100-round(len_after/len_before*100, 2)}%\")\n"
   ]
  },
  {
   "cell_type": "code",
   "execution_count": null,
   "id": "e0c83877-a10d-44f7-8318-2ed53d47b1ee",
   "metadata": {},
   "outputs": [],
   "source": []
  },
  {
   "cell_type": "code",
   "execution_count": null,
   "id": "638e781f-a37c-42e8-8941-006c0143e82d",
   "metadata": {},
   "outputs": [],
   "source": [
    "adata_filtered = adata[:, list(good_snvs)]\n",
    "\n",
    "fig, axes = plt.subplots(1, 2, figsize=(20, 6))\n",
    "fig.suptitle(f'Overview of SNVs for merged adata')\n",
    "    \n",
    "axes[0] = stacked_barplot_variants(adata_filtered, axes[0])    \n",
    "axes[1] = variant_linegraph(adata_filtered, axes[1], 250)\n",
    "\n",
    "plt.tight_layout(rect=[0, 0, 1, 0.95])\n",
    "plt.show()\n",
    "\n",
    "heatmap(adata_filtered)"
   ]
  },
  {
   "cell_type": "code",
   "execution_count": null,
   "id": "24c133f2-2885-430f-b19a-20f0649fbd15",
   "metadata": {},
   "outputs": [],
   "source": [
    "adata_filtered = adata[:, list(bad_snvs)]\n",
    "\n",
    "fig, axes = plt.subplots(1, 2, figsize=(20, 6))\n",
    "fig.suptitle(f'Overview of SNVs for merged adata')\n",
    "    \n",
    "axes[0] = stacked_barplot_variants(adata_filtered, axes[0])    \n",
    "axes[1] = variant_linegraph(adata_filtered, axes[1], 250)\n",
    "\n",
    "plt.tight_layout(rect=[0, 0, 1, 0.95])\n",
    "plt.show()\n",
    "\n",
    "heatmap(adata_filtered)"
   ]
  },
  {
   "cell_type": "code",
   "execution_count": null,
   "id": "a9cd40cb-7b01-4053-8ffd-7f439ad82b7b",
   "metadata": {},
   "outputs": [],
   "source": [
    "data['rna_filtered'][:, good_snvs].var"
   ]
  },
  {
   "cell_type": "code",
   "execution_count": null,
   "id": "0ecb6e43-6a56-4ece-8c4e-511701c85926",
   "metadata": {},
   "outputs": [],
   "source": [
    "data['dna_filtered'][:, good_snvs].var"
   ]
  },
  {
   "cell_type": "code",
   "execution_count": null,
   "id": "a7894d3c-dad8-4627-b0b7-4311680509ec",
   "metadata": {},
   "outputs": [],
   "source": [
    "fig, axes = plt.subplots(1, 2, figsize=(20, 6))\n",
    "fig.suptitle(f'Overview of SNVs for merged adata')\n",
    "    \n",
    "axes[0] = stacked_barplot_variants(data['dna_filtered'][:, good_snvs], axes[0])    \n",
    "axes[1] = variant_linegraph(data['dna_filtered'][:, good_snvs], axes[1], 250)\n",
    "\n",
    "plt.tight_layout(rect=[0, 0, 1, 0.95])\n",
    "plt.show()"
   ]
  },
  {
   "cell_type": "code",
   "execution_count": null,
   "id": "eed8717f-5944-49c1-a1b4-615f17ad4667",
   "metadata": {},
   "outputs": [],
   "source": [
    "fig, axes = plt.subplots(1, 2, figsize=(20, 6))\n",
    "fig.suptitle(f'Overview of SNVs for merged adata')\n",
    "    \n",
    "axes[0] = stacked_barplot_variants(data['rna_filtered'][:, good_snvs], axes[0])    \n",
    "axes[1] = variant_linegraph(data['rna_filtered'][:, good_snvs], axes[1], 250)\n",
    "\n",
    "plt.tight_layout(rect=[0, 0, 1, 0.95])\n",
    "plt.show()"
   ]
  },
  {
   "cell_type": "code",
   "execution_count": null,
   "id": "90b5587b-bf5d-4fbc-8577-8d786fe167cc",
   "metadata": {},
   "outputs": [],
   "source": [
    "def variant_linegraph_residuals(adata, adata1, max_n=100):\n",
    "    fig, axes = plt.subplots(1, 3, figsize=(25, 6))\n",
    "    fig.suptitle(f'Difference between RNA - DNA proportions')\n",
    "    variants = ['variant_1_proportion_0/0', 'variant_2_proportion_0/1', 'variant_3_proportion_1/1']\n",
    "    \n",
    "    snv_locations = range(max_n)\n",
    "    for i, variant in enumerate(variants):\n",
    "        axes[i].plot(snv_locations, adata.var[variant][:len(snv_locations)] - adata1.var[variant][:len(snv_locations)], label=f'{variant.split(\"_\")[-1]}')\n",
    "        axes[i].set_xlabel('SNV Location')\n",
    "        axes[i].set_ylabel('Proportion')\n",
    "        axes[i].set_title(f'{variant}')\n",
    "        #axes[i].legend(loc='upper right')\n",
    "\n",
    "\n",
    "    plt.show()"
   ]
  },
  {
   "cell_type": "code",
   "execution_count": null,
   "id": "fece4e8b-86cb-4764-8527-0ce9b3232c92",
   "metadata": {},
   "outputs": [],
   "source": [
    "variant_linegraph_residuals(data['rna_filtered'][:, good_snvs], data['dna_filtered'][:, good_snvs], max_n = 600)"
   ]
  },
  {
   "cell_type": "code",
   "execution_count": null,
   "id": "7a0301dc-898b-4f38-ab0e-a659a9357513",
   "metadata": {},
   "outputs": [],
   "source": [
    "import session_info\n",
    "session_info.show(dependencies=True)"
   ]
  },
  {
   "cell_type": "code",
   "execution_count": null,
   "id": "0e30ad6d-7d0b-4ab7-94c8-97d7b30d9f3e",
   "metadata": {},
   "outputs": [],
   "source": [
    "phenotype_count = {}\n",
    "\n",
    "ps = list(adata_s143.obs['Phenotype'])\n",
    "\n",
    "for p in ps:\n",
    "    if p not in phenotype_count.keys():\n",
    "        phenotype_count[p] = 1\n",
    "    else:\n",
    "        phenotype_count[p] += 1\n",
    "\n",
    "print(phenotype_count)\n"
   ]
  }
 ],
 "metadata": {
  "kernelspec": {
   "display_name": "base",
   "language": "python",
   "name": "base"
  },
  "language_info": {
   "codemirror_mode": {
    "name": "ipython",
    "version": 3
   },
   "file_extension": ".py",
   "mimetype": "text/x-python",
   "name": "python",
   "nbconvert_exporter": "python",
   "pygments_lexer": "ipython3",
   "version": "3.11.5"
  }
 },
 "nbformat": 4,
 "nbformat_minor": 5
}
